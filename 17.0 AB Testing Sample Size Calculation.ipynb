{
 "cells": [
  {
   "cell_type": "code",
   "execution_count": 5,
   "metadata": {
    "colab": {
     "base_uri": "https://localhost:8080/",
     "height": 35
    },
    "colab_type": "code",
    "executionInfo": {
     "elapsed": 634,
     "status": "ok",
     "timestamp": 1572644930673,
     "user": {
      "displayName": "Rajeev Ratan",
      "photoUrl": "https://lh3.googleusercontent.com/a-/AAuE7mCGo6aIm0tOcd5EhqWlYb0rime9sBvHS9YMpx0D2w=s64",
      "userId": "08597265227091462140"
     },
     "user_tz": 0
    },
    "id": "LodZ4At17jG9",
    "outputId": "d6407d15-5d61-4faa-e3a3-eae816d9c2c1"
   },
   "outputs": [
    {
     "data": {
      "text/plain": [
       "59"
      ]
     },
     "execution_count": 5,
     "metadata": {
      "tags": []
     },
     "output_type": "execute_result"
    }
   ],
   "source": [
    "from scipy.stats import norm, zscore\n",
    "\n",
    "def sample_power_probtest(p1, p2, power=0.8, sig=0.05):\n",
    "    #two-sided t test\n",
    "    z = norm.isf([sig/2]) \n",
    "    zp = -1 * norm.isf([power]) \n",
    "    d = (p1-p2)\n",
    "    s =2*((p1+p2) /2)*(1-((p1+p2) /2))\n",
    "    n = s * ((zp + z)**2) / (d**2)\n",
    "    return int(round(n[0]))\n",
    "\n",
    "sample_power_probtest(p1=0.5, p2=0.75, power=0.8, sig=0.05)"
   ]
  },
  {
   "cell_type": "code",
   "execution_count": 7,
   "metadata": {
    "colab": {
     "base_uri": "https://localhost:8080/",
     "height": 35
    },
    "colab_type": "code",
    "executionInfo": {
     "elapsed": 1048,
     "status": "ok",
     "timestamp": 1572646508664,
     "user": {
      "displayName": "Rajeev Ratan",
      "photoUrl": "https://lh3.googleusercontent.com/a-/AAuE7mCGo6aIm0tOcd5EhqWlYb0rime9sBvHS9YMpx0D2w=s64",
      "userId": "08597265227091462140"
     },
     "user_tz": 0
    },
    "id": "5n0iplf87nyf",
    "outputId": "1c5713ee-dab9-4f21-e82c-80dd9a88ffd7"
   },
   "outputs": [
    {
     "data": {
      "text/plain": [
       "59"
      ]
     },
     "execution_count": 7,
     "metadata": {
      "tags": []
     },
     "output_type": "execute_result"
    }
   ],
   "source": [
    "sample_power_probtest(p1=0.5, p2=0.75, power=0.8, sig=0.05)"
   ]
  },
  {
   "cell_type": "code",
   "execution_count": 0,
   "metadata": {
    "colab": {},
    "colab_type": "code",
    "id": "O7Be3SbeCRY2"
   },
   "outputs": [],
   "source": [
    ""
   ]
  }
 ],
 "metadata": {
  "colab": {
   "name": "AB Testing Sample Size Calculation.ipynb",
   "provenance": []
  },
  "kernelspec": {
   "display_name": "Python 3",
   "name": "python3"
  }
 },
 "nbformat": 4,
 "nbformat_minor": 0
}
