{
 "cells": [
  {
   "cell_type": "code",
   "execution_count": 40,
   "metadata": {},
   "outputs": [],
   "source": [
    "import nltk\n",
    "import re\n",
    "import heapq\n",
    "import numpy as np\n",
    "from nltk.corpus import stopwords\n"
   ]
  },
  {
   "cell_type": "code",
   "execution_count": 17,
   "metadata": {},
   "outputs": [],
   "source": [
    "paragraph = \"\"\"Thank you all so very much. Thank you to the Academy. \n",
    "               Thank you to all of you in this room. I have to congratulate \n",
    "               the other incredible nominees this year. The Revenant was \n",
    "               the product of the tireless efforts of an unbelievable cast\n",
    "               and crew. First off, to my brother in this endeavor, Mr. Tom \n",
    "               Hardy. Tom, your talent on screen can only be surpassed by \n",
    "               your friendship off screen … thank you for creating a t\n",
    "               ranscendent cinematic experience. Thank you to everybody at \n",
    "               Fox and New Regency … my entire team. I have to thank \n",
    "               everyone from the very onset of my career … To my parents; \n",
    "               none of this would be possible without you. And to my \n",
    "               friends, I love you dearly; you know who you are. And lastly,\n",
    "               I just want to say this: Making The Revenant was about\n",
    "               man's relationship to the natural world. A world that we\n",
    "               collectively felt in 2015 as the hottest year in recorded\n",
    "               history. Our production needed to move to the southern\n",
    "               tip of this planet just to be able to find snow. Climate\n",
    "               change is real, it is happening right now. It is the most\n",
    "               urgent threat facing our entire species, and we need to work\n",
    "               collectively together and stop procrastinating. We need to\n",
    "               support leaders around the world who do not speak for the \n",
    "               big polluters, but who speak for all of humanity, for the\n",
    "               indigenous people of the world, for the billions and \n",
    "               billions of underprivileged people out there who would be\n",
    "               most affected by this. For our children’s children, and \n",
    "               for those people out there whose voices have been drowned\n",
    "               out by the politics of greed. I thank you all for this \n",
    "               amazing award tonight. Let us not take this planet for \n",
    "               granted. I do not take tonight for granted. Thank you so very much.\"\"\"\n",
    "\n",
    "dataset= nltk.sent_tokenize(paragraph)\n"
   ]
  },
  {
   "cell_type": "code",
   "execution_count": 18,
   "metadata": {},
   "outputs": [],
   "source": [
    "# Cleaning the data "
   ]
  },
  {
   "cell_type": "code",
   "execution_count": 27,
   "metadata": {},
   "outputs": [],
   "source": [
    "for i in range(len(dataset)):\n",
    "    # Lower case \n",
    "    dataset[i]=dataset[i].lower()\n",
    "    # Remove the non word charecters\n",
    "    dataset[i]=re.sub(r'\\W',' ',dataset[i])\n",
    "    dataset[i]=re.sub(r'\\s+',' ',dataset[i])\n",
    "    dataset[i]=re.sub(r'\\d',' ',dataset[i])"
   ]
  },
  {
   "cell_type": "code",
   "execution_count": 28,
   "metadata": {},
   "outputs": [],
   "source": [
    "# Creating word histogram\n",
    "word2count = {}\n",
    "for data in dataset:\n",
    "    words=nltk.word_tokenize(data)\n",
    "    for word in words :\n",
    "        if word not in stopwords.words('english'):\n",
    "            if word not in word2count.keys():\n",
    "                word2count[word]=1\n",
    "            else:\n",
    "                word2count[word]+=1\n",
    "            "
   ]
  },
  {
   "cell_type": "code",
   "execution_count": 29,
   "metadata": {},
   "outputs": [],
   "source": [
    "# Selecting best 100 features\n",
    "freq_words=heapq.nlargest(100,word2count,key=word2count.get)"
   ]
  },
  {
   "cell_type": "code",
   "execution_count": 30,
   "metadata": {},
   "outputs": [
    {
     "data": {
      "text/plain": [
       "['thank',\n",
       " 'world',\n",
       " 'people',\n",
       " 'much',\n",
       " 'year',\n",
       " 'revenant',\n",
       " 'tom',\n",
       " 'screen',\n",
       " 'entire',\n",
       " 'would',\n",
       " 'collectively',\n",
       " 'planet',\n",
       " 'need',\n",
       " 'speak',\n",
       " 'billions',\n",
       " 'children',\n",
       " 'tonight',\n",
       " 'take',\n",
       " 'granted',\n",
       " 'academy',\n",
       " 'room',\n",
       " 'congratulate',\n",
       " 'incredible',\n",
       " 'nominees',\n",
       " 'product',\n",
       " 'tireless',\n",
       " 'efforts',\n",
       " 'unbelievable',\n",
       " 'cast',\n",
       " 'crew',\n",
       " 'first',\n",
       " 'brother',\n",
       " 'endeavor',\n",
       " 'mr',\n",
       " 'hardy',\n",
       " 'talent',\n",
       " 'surpassed',\n",
       " 'friendship',\n",
       " 'creating',\n",
       " 'ranscendent',\n",
       " 'cinematic',\n",
       " 'experience',\n",
       " 'everybody',\n",
       " 'fox',\n",
       " 'new',\n",
       " 'regency',\n",
       " 'team',\n",
       " 'everyone',\n",
       " 'onset',\n",
       " 'career',\n",
       " 'parents',\n",
       " 'none',\n",
       " 'possible',\n",
       " 'without',\n",
       " 'friends',\n",
       " 'love',\n",
       " 'dearly',\n",
       " 'know',\n",
       " 'lastly',\n",
       " 'want',\n",
       " 'say',\n",
       " 'making',\n",
       " 'man',\n",
       " 'relationship',\n",
       " 'natural',\n",
       " 'felt',\n",
       " 'hottest',\n",
       " 'recorded',\n",
       " 'history',\n",
       " 'production',\n",
       " 'needed',\n",
       " 'move',\n",
       " 'southern',\n",
       " 'tip',\n",
       " 'able',\n",
       " 'find',\n",
       " 'snow',\n",
       " 'climate',\n",
       " 'change',\n",
       " 'real',\n",
       " 'happening',\n",
       " 'right',\n",
       " 'urgent',\n",
       " 'threat',\n",
       " 'facing',\n",
       " 'species',\n",
       " 'work',\n",
       " 'together',\n",
       " 'stop',\n",
       " 'procrastinating',\n",
       " 'support',\n",
       " 'leaders',\n",
       " 'around',\n",
       " 'big',\n",
       " 'polluters',\n",
       " 'humanity',\n",
       " 'indigenous',\n",
       " 'underprivileged',\n",
       " 'affected',\n",
       " 'whose']"
      ]
     },
     "execution_count": 30,
     "metadata": {},
     "output_type": "execute_result"
    }
   ],
   "source": [
    "freq_words"
   ]
  },
  {
   "cell_type": "code",
   "execution_count": 38,
   "metadata": {},
   "outputs": [],
   "source": [
    "# Converting sentences to vectors\n",
    "X = []\n",
    "\n",
    "for data in dataset:\n",
    "    vector=[]\n",
    "    for word in freq_words:\n",
    "        if word in nltk.word_tokenize(data):\n",
    "                vector.append(1)\n",
    "        else: \n",
    "                vector.append(0)\n",
    "            \n",
    "    X.append(vector)"
   ]
  },
  {
   "cell_type": "code",
   "execution_count": 43,
   "metadata": {},
   "outputs": [],
   "source": [
    "dataset =np.asarray(X)"
   ]
  },
  {
   "cell_type": "code",
   "execution_count": 44,
   "metadata": {},
   "outputs": [
    {
     "data": {
      "text/plain": [
       "array([[1, 0, 0, ..., 0, 0, 0],\n",
       "       [1, 0, 0, ..., 0, 0, 0],\n",
       "       [1, 0, 0, ..., 0, 0, 0],\n",
       "       ...,\n",
       "       [0, 0, 0, ..., 0, 0, 0],\n",
       "       [0, 0, 0, ..., 0, 0, 0],\n",
       "       [1, 0, 0, ..., 0, 0, 0]])"
      ]
     },
     "execution_count": 44,
     "metadata": {},
     "output_type": "execute_result"
    }
   ],
   "source": [
    "dataset"
   ]
  },
  {
   "cell_type": "code",
   "execution_count": null,
   "metadata": {},
   "outputs": [],
   "source": []
  }
 ],
 "metadata": {
  "kernelspec": {
   "display_name": "Python 3",
   "language": "python",
   "name": "python3"
  },
  "language_info": {
   "codemirror_mode": {
    "name": "ipython",
    "version": 3
   },
   "file_extension": ".py",
   "mimetype": "text/x-python",
   "name": "python",
   "nbconvert_exporter": "python",
   "pygments_lexer": "ipython3",
   "version": "3.7.3"
  }
 },
 "nbformat": 4,
 "nbformat_minor": 2
}
